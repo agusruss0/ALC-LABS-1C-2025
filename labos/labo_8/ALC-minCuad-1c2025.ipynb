{
 "cells": [
  {
   "cell_type": "code",
   "execution_count": null,
   "id": "d4df1434-bbba-4d0e-9c0b-971ffb48a829",
   "metadata": {},
   "outputs": [],
   "source": [
    "import numpy as np\n",
    "import matplotlib.pyplot as plt"
   ]
  },
  {
   "cell_type": "markdown",
   "id": "609f0c01-3eb4-4079-b75c-843f2414e81d",
   "metadata": {},
   "source": [
    "## **Introducción a los Mínimos Cuadrados**\n",
    "\n",
    "### 1. **Ajuste de Modelos Cuadráticos a Datos Experimentales**\n",
    "\n",
    "En este notebook exploraremos distintas aplicaciones a mínimos cuadrados. Empecemos con un ejemplo motivador.\n",
    "\n",
    "#### Problema motivador 1\n",
    "\n",
    "Una pelota es arrojada hacia arriba. Una cámara de fotos toma fotos cada 0.1 segundos y a partir de esas fotos se calcula la altura de la pelota en cada instante.\n",
    "En el archivo `altura_pelota.csv` se encuentran las mediciones obtenidas.\n",
    "\n",
    "Sabiendo que la altura de la pelota depende del tiempo en forma cuadrática \n",
    "$h(t) = c_0 + c_1 t + c_2 t^2,$ estimar los valores de $c_0, c_1, c_2$ ajustando los datos por mínimos cuadrados.\n",
    "\n",
    "Resolvemos el problema mediante las ecuaciones normales\n",
    "$\n",
    "A^tA c = A^ty\n",
    "$\n",
    "para una matriz $A$ apropiada.\n"
   ]
  },
  {
   "cell_type": "code",
   "execution_count": null,
   "id": "61a4f2cf-bd93-49cd-b53a-ef2115e1d0d2",
   "metadata": {},
   "outputs": [],
   "source": [
    "import pandas as pd   \n",
    "# Los datos están en español! \n",
    "datos = pd.read_csv(\"altura_pelota.csv\", sep=\";\", decimal=\",\")   # dataFrame\n",
    "datos.head(3)"
   ]
  },
  {
   "cell_type": "code",
   "execution_count": null,
   "id": "1124795f-60a3-403d-a78a-d1676c0e46c8",
   "metadata": {},
   "outputs": [],
   "source": [
    "# Convertimos los datos a np.array\n",
    "datosNP = datos.to_numpy()\n",
    "print(datosNP.shape)"
   ]
  },
  {
   "cell_type": "code",
   "execution_count": null,
   "id": "b8e7e44d-f2d3-4212-883f-8c2b454acba4",
   "metadata": {},
   "outputs": [],
   "source": [
    "# Graficamos\n",
    "plt.scatter(datosNP[:,0], datosNP[:,1])"
   ]
  },
  {
   "cell_type": "markdown",
   "id": "b165f219-5a08-4b79-a3a0-95451450a506",
   "metadata": {},
   "source": [
    "Resolver a partir de aqui"
   ]
  },
  {
   "cell_type": "markdown",
   "id": "1bb1d263-857d-49e9-8f82-cf60f1cba0ad",
   "metadata": {},
   "source": [
    "**Ejercicios**\n",
    "\n",
    "1. Obtener la matriz A.\n",
    "2. Resolver por mínimos cuadrados utilizando la función de escalonamiento utilizada en el laboratorio de ALC (_no utilizar el solve de numpy o scipy, etc._)\n",
    "3. Graficar la nube de puntos y la función encontrada.\n",
    "4. Es posible saber en que punto la pelota toca el suelo para los valores encontrados?"
   ]
  },
  {
   "cell_type": "code",
   "execution_count": null,
   "id": "57758594-c901-47a7-9f7d-4713cf6a1f43",
   "metadata": {},
   "outputs": [],
   "source": []
  },
  {
   "cell_type": "markdown",
   "id": "12a99bbe-63e3-40eb-8f6f-6f51df43b2aa",
   "metadata": {},
   "source": [
    "### 2. **Mínimos cuadrados para sumas de funciones**"
   ]
  },
  {
   "cell_type": "markdown",
   "id": "5c34cd50-8a5e-4040-929a-40f9139b208d",
   "metadata": {},
   "source": [
    "Para datos $(t_j, y_j)$, $1 \\le j \\le m$ queremos ajustar una función del tipo \n",
    "$$\n",
    "y = c_1 f_1(t) + \\dots + c_s f_s(t)\n",
    "$$\n",
    "\n",
    "Ejemplo: $y = a + b t + c t^2$.\n",
    "\n",
    "**RECORDAR**: reemplazando los valores de $t$ e $y$ por los datos en la tabla obtenemos un sistema **lineal** de ecuaciones, donde las incógnitas son los $c_i$:\n",
    "\n",
    "$$\n",
    "\\begin{align}\n",
    "y_1 &= c_1 f_1(t_1) + \\dots + c_s f_s(t_1) \\\\\n",
    "&\\vdots\\\\\n",
    "y_m &= c_1 f_1(t_m) + \\dots + c_s f_s(t_m)\n",
    "\\end{align}\n",
    "$$\n",
    "\n",
    "Cuando tenemos más datos (ecuaciones) que incógnitas, usamos mínimos cuadrados para obtener una solución aproximada.\n",
    "\n"
   ]
  },
  {
   "cell_type": "markdown",
   "id": "5209986c-3aa4-4dbd-b444-9015fbd0b1ff",
   "metadata": {},
   "source": [
    "#### Problema\n",
    "Ajustar por mínimos cuadrados una función del tipo\n",
    "$$\n",
    "y = c_1 t^2 + c_2 e^t + c_3 t\n",
    "$$\n",
    "a los datos\n",
    "\n",
    "|t|1|2|4|6|8|\n",
    "| --- | --- | --- | --- | --- | --- |\n",
    "|y|6|10|10|8|10|"
   ]
  },
  {
   "cell_type": "code",
   "execution_count": null,
   "id": "bbdad9c8-b66c-4330-a0f5-24dae28f2de8",
   "metadata": {},
   "outputs": [],
   "source": [
    "# Vectores de datos\n",
    "ti = np.array([1, 2, 4, 6, 8])\n",
    "yi = np.array([6, 10, 10, 8, 10])\n",
    "\n",
    "# a) Definimos las funciones\n",
    "def f1(t):\n",
    "    return(t**2)\n",
    "\n",
    "def f2(t):\n",
    "    return(np.e**t)\n",
    "\n",
    "def f3(t):\n",
    "    return(t)"
   ]
  },
  {
   "cell_type": "markdown",
   "id": "cf0b66ba-e606-48f6-a1f7-d1b09514d13c",
   "metadata": {},
   "source": [
    "**Ejercicios**\n",
    "1. Construir la matriz $A$ a partir de la ecuación de $y$ y de los datos\n",
    "2. Econtrar por mínimos cuadrados los coeficientes $c_1, c_2, c_3$\n",
    "3. Verificar graficando los puntos $(t,y)$ y la función contínua obtenida por los mínimos cuadrados.\n"
   ]
  },
  {
   "cell_type": "code",
   "execution_count": null,
   "id": "59b9415f-0b86-4052-ac93-fe971d23c80b",
   "metadata": {},
   "outputs": [],
   "source": []
  },
  {
   "cell_type": "markdown",
   "id": "319d5870",
   "metadata": {},
   "source": [
    "### 3. Estudiando escalas del cuerpo\n",
    "\n",
    "En este punto la propuesta es que exploren las relaciones de escala entre distintas partes del cuerpo humano. Para eso, apoyense en el set de datos de ANSUR II que acompaña el notebook.\n",
    "\n",
    "Como guía, empiecen considerando las variables Heightin, waistbreadth, weightkg, crotchheight, footlength, earbreadth. Pueden apoyarse en [esta página](https://ph.health.mil/topics/workplacehealth/ergo/Pages/Anthropometric-Database.aspx) para ver qué representa cada variable. \n",
    "\n",
    "Construyan un programa que tome un conjunto de variables del dataset, y una que represente la _escala_ del cuerpo. El programa debe computar la matriz de diseño para cada una de las variables (como función lineal de la variable _escala_) y reportar todos los coeficientes de escala obtenidos. Comparen para cada variable y discutan: ¿tiene sentido pensar al cuerpo como algo que se _infla_ o _desinfla_, manteniendo proporciones conforme crece?¿Alcanza esta información para responder esta pregunta?"
   ]
  },
  {
   "cell_type": "markdown",
   "id": "693f545c",
   "metadata": {},
   "source": [
    "### 4. Ecualización, Fourier y armónicos\n",
    "\n",
    "Como último ejemplo, consideremos el sonido producido por una [nota fundamental y sus armónicos](https://en-m-wikipedia-org.translate.goog/wiki/Harmonic?_x_tr_sl=en&_x_tr_tl=es&_x_tr_hl=es&_x_tr_pto=tc). Mucha de la música se estructura bajo el concepto de que una nota _armoniza_ con otras que tiene frecuencias múltiplo de la primera. Pueden usar [este link](https://onlinetonegenerator.com/multiple-tone-generator.html) para apoyarse a lo largo del ejercicio (aunque quizá necesiten auriculares).\n",
    "\n",
    "Para fijar ideas, podemos pensar en el sonido producido por una cuerda de guitarra al ser pulsada. El sonido, si bien tiene mayor preponderancia de la fundamental, se enriquece por los armónicos de la misma que suenan al pulsarla.\n",
    "\n",
    "Matemáticamente, podemos modelar esto como una suma de funciones senoidales y cosenoidales a frecuencias múltiplo unas de las otras\n",
    "\n",
    "$$S(t) = \\sum^{\\infty}_{i=1} a_i \\sin(2 \\pi i f t) + b_i \\cos(2 \\pi f t)$$\n",
    "\n",
    "Donde $f$ es la frecuencia de la fundamental, $t$ es el tiempo y $S(t)$ la señal observada. Pueden buscar sobre [series de Fourier](https://es.wikipedia.org/wiki/Serie_de_Fourier), si quieren saber más.\n",
    "\n",
    "\n",
    "Ahora, usando cuadrados mínimos, la propuesta es que encuentren los coeficientes $a_i$ y $b_i$ para algunas señales de ejemplo."
   ]
  },
  {
   "cell_type": "markdown",
   "id": "2bba1b91",
   "metadata": {},
   "source": [
    "#### Ejemplo 1:\n",
    "\n",
    "Una suma simple de senoidales, para calibrar. Como usar infinitos armónicos es computacionalmente imposible, consideren $i=1,\\dots,6$ en la sumatoria anterior."
   ]
  },
  {
   "cell_type": "code",
   "execution_count": null,
   "id": "bb2d487a",
   "metadata": {},
   "outputs": [],
   "source": [
    "import numpy as np\n",
    "t = np.linspace(0,10,50)\n",
    "fundamental = 0.1\n",
    "ai_real = [10,0,2,2]\n",
    "bi_real = [0,1,0,0]\n",
    "s_observada = 0\n",
    "for i,ai in enumerate(ai_real):\n",
    "    s_observada += ai*np.sin(2*np.pi*(i+1)*fundamental*t)\n",
    "for i,bi in enumerate(bi_real):\n",
    "    s_observada += bi*np.cos(2*np.pi*(i+1)*fundamental*t)\n",
    "\n",
    "plt.plot(t,s_observada)"
   ]
  },
  {
   "cell_type": "code",
   "execution_count": null,
   "id": "340bcba1",
   "metadata": {},
   "outputs": [],
   "source": [
    "# Construyan la matriz de diseño usando i hasta 10, y comparen los coeficientes obtenidos con los reales\n"
   ]
  },
  {
   "cell_type": "markdown",
   "id": "b1f1f689",
   "metadata": {},
   "source": [
    "### Ejemplo 2:\n",
    "\n",
    "Ahora probemos una función un poco menos \"senoidal\". Una señal cuadrada (como la que tendríamos de un amplificador con distorsión)."
   ]
  },
  {
   "cell_type": "code",
   "execution_count": null,
   "id": "5705734b",
   "metadata": {},
   "outputs": [],
   "source": [
    "t = np.linspace(0,10,50)\n",
    "s_observada = np.sign(np.cos(4*np.pi*fundamental*t))\n",
    "plt.plot(t,s_observada)"
   ]
  },
  {
   "cell_type": "code",
   "execution_count": null,
   "id": "50e17d4b",
   "metadata": {},
   "outputs": [],
   "source": [
    "# Construyan la matriz de diseño usando frecuencias hasta 5, 10 y 20 veces la fundamental. Comparen la señal observada con el resultado."
   ]
  },
  {
   "cell_type": "markdown",
   "id": "5310ddbc",
   "metadata": {},
   "source": [
    "### Ejemplo 3:\n",
    "\n",
    "La última propuesta es que exploren que pasa si no logramos identificar correctamente la fundamental. Para esto, ajusten nuevamente los datos del Ejemplo 1, pero usando como fundamental $1.1$ y $0.9$ veces el valor real. "
   ]
  },
  {
   "cell_type": "markdown",
   "id": "c1db1f72",
   "metadata": {},
   "source": []
  }
 ],
 "metadata": {
  "kernelspec": {
   "display_name": "base",
   "language": "python",
   "name": "python3"
  },
  "language_info": {
   "codemirror_mode": {
    "name": "ipython",
    "version": 3
   },
   "file_extension": ".py",
   "mimetype": "text/x-python",
   "name": "python",
   "nbconvert_exporter": "python",
   "pygments_lexer": "ipython3",
   "version": "3.11.7"
  }
 },
 "nbformat": 4,
 "nbformat_minor": 5
}
