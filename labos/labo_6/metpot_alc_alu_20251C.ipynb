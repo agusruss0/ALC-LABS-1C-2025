{
  "cells": [
    {
      "cell_type": "code",
      "execution_count": 2,
      "metadata": {
        "id": "HycQrLzTSZHo"
      },
      "outputs": [],
      "source": [
        "import numpy as np\n",
        "import matplotlib.pyplot as plt\n",
        "import pandas as pd\n",
        "import seaborn as sns"
      ]
    },
    {
      "cell_type": "markdown",
      "metadata": {
        "id": "tn-WUkKuDG_V"
      },
      "source": [
        "# Cálculo de autovectores: Método de la potencia"
      ]
    },
    {
      "cell_type": "markdown",
      "metadata": {
        "id": "FN-LtDIyDLWz"
      },
      "source": [
        "## Ejercicio 1: Metodo de la potencia\n",
        "\n",
        "Implementar el método de la potencia considerando algún criterio de parada (además del corte por cantidad de iteraciones)"
      ]
    },
    {
      "cell_type": "code",
      "execution_count": 21,
      "metadata": {
        "id": "fIykV5y1k-SM"
      },
      "outputs": [],
      "source": [
        "def power_iteration(A, niter=10_000, eps=1e-6):\n",
        "    \"\"\"\n",
        "    Calcula el autovector al autovalor asociado de valor máximo\n",
        "\n",
        "    Devuelve (a, v) con a autovalor, y v autovector de A\n",
        "\n",
        "    Arguments:\n",
        "    ----------\n",
        "\n",
        "    A: np.array\n",
        "        Matriz de la cual quiero calcular el autovector y autovalor\n",
        "\n",
        "    niter: int (> 0)\n",
        "        Cantidad de iteraciones\n",
        "\n",
        "    eps: Epsilon\n",
        "        Tolerancia utilizada en el criterio de parada\n",
        "    \"\"\"\n",
        "    a = []\n",
        "    v = np.random.uniform(1, -1, A.shape[0])\n",
        "    v = v /np.linalg.norm(v,2)\n",
        "    l0 = v.T @ A @ v / v.T @ v\n",
        "    v1 = A @ v\n",
        "    v1 = v1 / np.linalg.norm(v1, 2)\n",
        "    l1 = (v1.T @ A @ v1) / (v1.T @ v1)\n",
        "    a.append(l1)\n",
        "    iter = 0\n",
        "    while np.abs(l1 - l0) / np.abs(l0) > eps and iter < niter: \n",
        "        l0 = l1\n",
        "        vec = v1\n",
        "        v1 = A @ v1\n",
        "        v1 = v1 / np.linalg.norm(v1, 2)\n",
        "        l1 = (v1.T @ A @ v1) / (v1.T @ v1)\n",
        "        a.append(l1)\n",
        "        iter += 1\n",
        "    \n",
        "    v = v1\n",
        "    return a, v"
      ]
    },
    {
      "cell_type": "markdown",
      "metadata": {
        "id": "qVcHZDFDEduY"
      },
      "source": [
        "Verifiquemos la implementación con ejemplos con autovalores y autovectores conocidos.\n",
        "\n",
        "a) Matriz D diagonal con autovalores y autovectores conocidos\n",
        "\n",
        "$$\n",
        "D = \\begin{pmatrix}\n",
        "d_1    &0     &0      &0      &\\\\\n",
        "0      &d_2   &0      &0      &\\\\\n",
        "\\vdots &\\vdots&\\ddots &\\vdots &\\\\\n",
        "0      &0     &0      &d_n    & \\\\\n",
        "\\end{pmatrix}\n",
        "$$\n",
        "\n",
        "\n",
        "b) Matriz A semejante a una matriz diagonal D con autovalores conocidos.\n",
        "\n",
        "$$\n",
        "A = Q \\begin{pmatrix}\n",
        "d_1    &0     &0      &0      &\\\\\n",
        "0      &d_2   &0      &0      &\\\\\n",
        "\\vdots &\\vdots&\\ddots &\\vdots &\\\\\n",
        "0      &0     &0      &d_n    & \\\\\n",
        "\\end{pmatrix} Q^T\n",
        "$$\n",
        "\n",
        "con $Q = I - 2 v v^T$, $||v||_2=1$ la matriz de reflexión de Householder que sabemos que es ortogonal\n"
      ]
    },
    {
      "cell_type": "code",
      "execution_count": 42,
      "metadata": {
        "id": "cHz5okByEdR9"
      },
      "outputs": [
        {
          "name": "stdout",
          "output_type": "stream",
          "text": [
            "1.0\n",
            "[[-1. -2. -2. -2. -2.]\n",
            " [-2. -1. -2. -2. -2.]\n",
            " [-2. -2. -1. -2. -2.]\n",
            " [-2. -2. -2. -1. -2.]\n",
            " [-2. -2. -2. -2. -1.]]\n",
            "[[45. 42. 44. 46. 48.]\n",
            " [42. 48. 46. 48. 50.]\n",
            " [44. 46. 51. 50. 52.]\n",
            " [46. 48. 50. 54. 54.]\n",
            " [48. 50. 52. 54. 57.]]\n",
            "EigResult(eigenvalues=array([243.67312839,   4.52690695,   1.14852885,   2.266642  ,\n",
            "         3.3847938 ]), eigenvectors=array([[ 0.41304901, -0.81078757,  0.18819874, -0.2153492 , -0.30036643],\n",
            "       [ 0.42995889,  0.56609947,  0.20202788, -0.26806744, -0.61805446],\n",
            "       [ 0.44672826,  0.13948822,  0.23079559, -0.46455787,  0.71546928],\n",
            "       [ 0.46335885,  0.05053186,  0.32713504,  0.81276619,  0.12304024],\n",
            "       [ 0.47985238,  0.01201991, -0.87377459,  0.07322352,  0.02744999]]))\n"
          ]
        },
        {
          "data": {
            "text/plain": [
              "([np.float64(225.6602544661792),\n",
              "  np.float64(243.66819608873752),\n",
              "  np.float64(243.67312698170898),\n",
              "  np.float64(243.67312839056154),\n",
              "  np.float64(243.67312839099566),\n",
              "  np.float64(243.67312839099577),\n",
              "  np.float64(243.6731283909958),\n",
              "  np.float64(243.6731283909958)],\n",
              " array([0.41304901, 0.42995889, 0.44672826, 0.46335885, 0.47985238]))"
            ]
          },
          "execution_count": 42,
          "metadata": {},
          "output_type": "execute_result"
        }
      ],
      "source": [
        "D = np.diag([5.0, 4.0, 3.0, 2.0, 1])\n",
        "rows, cols = D.shape\n",
        "# Vector v aleatorio y de norma 1\n",
        "v = np.random.uniform(1, -1, rows)\n",
        "v = v / np.linalg.norm(v,2)\n",
        "print(np.linalg.norm(v,2))\n",
        "# Matriz de Householder\n",
        "B = np.eye(rows, cols) - np.multiply(v @ v.T, 2)\n",
        "print(B)\n",
        "# Matriz a diagonalizar, recordar B es simétrica y ortogonal\n",
        "M = B @ D @ B.T\n",
        "print(M)\n",
        "print(np.linalg.eig(M))\n",
        "\n",
        "l, v = power_iteration(M,niter=100, eps=1e-16)\n",
        "l, v"
      ]
    },
    {
      "cell_type": "code",
      "execution_count": 44,
      "metadata": {
        "id": "M2JD2yJooc6Y"
      },
      "outputs": [
        {
          "name": "stdout",
          "output_type": "stream",
          "text": [
            "True\n"
          ]
        },
        {
          "ename": "AssertionError",
          "evalue": "",
          "output_type": "error",
          "traceback": [
            "\u001b[31m---------------------------------------------------------------------------\u001b[39m",
            "\u001b[31mAssertionError\u001b[39m                            Traceback (most recent call last)",
            "\u001b[36mCell\u001b[39m\u001b[36m \u001b[39m\u001b[32mIn[44]\u001b[39m\u001b[32m, line 5\u001b[39m\n\u001b[32m      2\u001b[39m \u001b[38;5;28mprint\u001b[39m(np.allclose(M\u001b[38;5;129m@v\u001b[39m, l[-\u001b[32m1\u001b[39m] * v))\n\u001b[32m      4\u001b[39m \u001b[38;5;66;03m# Verificar v es autovector\u001b[39;00m\n\u001b[32m----> \u001b[39m\u001b[32m5\u001b[39m \u001b[38;5;28;01massert\u001b[39;00m(v \u001b[38;5;129;01min\u001b[39;00m np.linalg.eig(M)[\u001b[32m1\u001b[39m])\n",
            "\u001b[31mAssertionError\u001b[39m: "
          ]
        }
      ],
      "source": [
        "# Verificar l es autovalor dominante\n",
        "print(np.allclose(M@v, l[-1] * v))\n",
        "\n",
        "# Verificar v es autovector\n",
        "assert(v in np.linalg.eig(M)[1])"
      ]
    },
    {
      "cell_type": "markdown",
      "metadata": {
        "id": "eUX3qBwMoqkN"
      },
      "source": [
        "Otra forma de chequear:\n",
        "\n",
        "Si llamamos  $\\hat v_1$ al autovector dominante estimado y $\\hat \\lambda_1$ al autovalor asociado estimado, entonces chequeemos que cumple con ser un autovector por definición:\n",
        "\n",
        "$$ A \\hat v_1 \\approx \\hat \\lambda_1 v_1$$\n",
        "\n",
        "y por lo tanto\n",
        "\n",
        "$$ || A \\hat v_1 - \\hat \\lambda_1 v_1 || < \\epsilon $$\n",
        "\n",
        "para  $\\epsilon$  suficientemente chico (que dependera de la aplicación y el contexto).\n",
        "Para este caso, probar con $10^{-6}$\n",
        "\n"
      ]
    },
    {
      "cell_type": "code",
      "execution_count": 43,
      "metadata": {
        "id": "zehBONX3qExO"
      },
      "outputs": [
        {
          "name": "stdout",
          "output_type": "stream",
          "text": [
            "True\n"
          ]
        }
      ],
      "source": [
        "error = np.linalg.norm(M@v-l[-1]*v,2)\n",
        "if error < 10e-6:\n",
        "    print(True)"
      ]
    },
    {
      "cell_type": "markdown",
      "metadata": {
        "id": "QDUleiC8Yc1v"
      },
      "source": [
        "## Ejercicio 2: Velocidad de convergencia"
      ]
    },
    {
      "cell_type": "markdown",
      "metadata": {
        "id": "bohp51EBoaYh"
      },
      "source": [
        "Mostrar la convergencia de la sucesión de autovalores $\\{\\lambda_{k}\\}_{k \\in \\mathbb{N}}$ al autovalor dominante.\n",
        "\n",
        "Utilizar la matriz M como se definió en el ejercicio anterior con autovalores $[5,4,3,2,1]$"
      ]
    },
    {
      "cell_type": "code",
      "execution_count": null,
      "metadata": {
        "id": "8wux_SAlop-Z"
      },
      "outputs": [],
      "source": [
        "plt.plot(...)\n",
        "plt.xlabel(\"k (iteraciones)\")\n",
        "plt.ylabel(\"$\\lambda_k$\")"
      ]
    },
    {
      "cell_type": "markdown",
      "metadata": {
        "id": "LycGnNPN4uzd"
      },
      "source": [
        "Repetir el análisis anterior pero para una matriz M con autovalores $[5, 4.9, 3,2,1]$. ¿De qué parece depender la velocidad de convergencia?"
      ]
    },
    {
      "cell_type": "code",
      "execution_count": null,
      "metadata": {
        "id": "IOoF0nUL48wH"
      },
      "outputs": [],
      "source": [
        "# COMPLETAR"
      ]
    },
    {
      "cell_type": "markdown",
      "metadata": {
        "id": "lsFuEl3SLLqu"
      },
      "source": [
        "---\n",
        "\n",
        "\n",
        "Definición: Sea ${\\alpha_n}$ una sucesión que converge a $\\alpha$. Sea ${\\beta_n}$ convergente a 0.\n",
        "\n",
        "Decimos que ${\\alpha_n}$ tiene orden de convergencia $O(\\beta_n)$ (es decir, que $\\alpha_n$ converge tan rápido como $\\beta_{n}$) si existe c > 0 tal que:\n",
        "\n",
        "$$|\\alpha_n − \\alpha| ≤ c\\beta_n$$ para todo\n",
        "n suficientemente grande.\n",
        "\n"
      ]
    },
    {
      "cell_type": "markdown",
      "metadata": {
        "id": "n5QQAG42Kjop"
      },
      "source": [
        "Analizar la velocidad de convergencia para la sucesión {$\\lambda_k\\}_{k}$ del autovalor dominante $\\lambda_1 = 5$.\n",
        "\n",
        "Verificar que, en caso de tomar cociente de Rayleigh, se obtiene convergencia cuadrática:\n",
        "\n",
        "$$ \\{\\lambda_k\\}_{k} \\in O((\\frac{\\lambda_2}{\\lambda_1})^{2k})$$\n",
        "\n"
      ]
    },
    {
      "cell_type": "code",
      "execution_count": null,
      "metadata": {
        "id": "g04p_EOSIIYk"
      },
      "outputs": [],
      "source": [
        "# COMPLETAR"
      ]
    },
    {
      "cell_type": "markdown",
      "metadata": {
        "id": "2FGe9l_5PBkW"
      },
      "source": [
        " ## Ejercicio 3: Metodo de la potencia inverso\n",
        "\n",
        "Obtener el autovalor más chico de M (junto a su autovector) utilizando el método de la potencia inverso."
      ]
    },
    {
      "cell_type": "code",
      "execution_count": null,
      "metadata": {
        "id": "WR976PHWgYc5"
      },
      "outputs": [],
      "source": [
        "# COMPLETAR"
      ]
    },
    {
      "cell_type": "markdown",
      "metadata": {
        "id": "7zlVQ-fQEw60"
      },
      "source": [
        "## Ejercicio 4: Metodo de la potencia + Deflación\n",
        "\n",
        "Implementar método de la potencia + deflación"
      ]
    },
    {
      "cell_type": "code",
      "execution_count": null,
      "metadata": {
        "id": "XKOb8uQnEwnd"
      },
      "outputs": [],
      "source": [
        "def eigen(A, num=2, niter=10000, eps=1e-6):\n",
        "    \"\"\"\n",
        "    Calculamos num autovalores y autovectores usando método de la potencia+deflación\n",
        "    \"\"\"\n",
        "    A = A.copy()\n",
        "    eigenvalues = []\n",
        "    eigenvectors = np.zeros((A.shape[0], num))\n",
        "    for i in range(num):\n",
        "        \n",
        "        pass\n",
        "    return np.array(eigenvalues), eigenvectors"
      ]
    },
    {
      "cell_type": "markdown",
      "metadata": {
        "id": "qvf7knv-iy_C"
      },
      "source": [
        "Calcular todos los autovalores y autovectores de la matriz M definida inicialmente.\n",
        "\n",
        "Verificar que los errores de las aproximaciones obtenidas\n",
        "\n",
        "$$ || A \\hat v_i - \\hat \\lambda_i v_i || < \\epsilon $$\n",
        "\n",
        "se encuentren dentro de una tolerancia de $10^{-6}$.\n",
        "\n",
        "Verificar que con los autovectores obtenidos, se obtiene una diagonalización de la matriz A."
      ]
    },
    {
      "cell_type": "code",
      "execution_count": null,
      "metadata": {
        "id": "vy5f4oS6FsN7"
      },
      "outputs": [],
      "source": [
        "D = np.diag([5.0, 4.0, 3.0, 2.0, 0])\n",
        "\n",
        "\n",
        "M = ...\n",
        "\n",
        "l, V = eigen(M, 5, niter=...,eps=..)\n",
        "\n",
        "# Verificar error dentro de tolerancia\n",
        "\n",
        "# Verificar que diagonalizacion de A\n"
      ]
    },
    {
      "cell_type": "markdown",
      "metadata": {
        "id": "cG-hHfZBK5fT"
      },
      "source": [
        "## Ejercicio 5: Más Casos de prueba para divertirse un rato"
      ]
    },
    {
      "cell_type": "markdown",
      "metadata": {
        "id": "uT9btW23LuXm"
      },
      "source": [
        "Corroborar que para la siguiente matriz se cumplen todas las hipótesis del método de la potencia + deflación.\n",
        "\n",
        "Verificar con la noción de error del ejercicio anterior, que pueden encontrarse todos sus autovectores y autovalores."
      ]
    },
    {
      "cell_type": "code",
      "execution_count": null,
      "metadata": {
        "id": "I-ExgjhgLt_z"
      },
      "outputs": [],
      "source": [
        "A = np.array([\n",
        "  [ 7,  2,  -3],\n",
        "  [ 2,  2,  -2],\n",
        "  [-3, -2,  -2]\n",
        "])\n"
      ]
    },
    {
      "cell_type": "markdown",
      "metadata": {
        "id": "zDjLbUk3lQGe"
      },
      "source": [
        "Para una matriz A cualquiera (considerar por ejemplo la anterior), estudiar la relación entre los autovectores y autovalores de $AA^T$ y $A^TA$.\n",
        "\n",
        "Obtenerlos mediante el método de la potencia + deflación y verificar que se cumpla dicha relación."
      ]
    },
    {
      "cell_type": "code",
      "execution_count": null,
      "metadata": {
        "id": "SQaV_HyacPuW"
      },
      "outputs": [],
      "source": [
        "TA = A.T @ A\n",
        "AT = A @ A.T\n",
        "wta, VTA, _ = eigen(AT, num=3, niter=20000, eps=1e-24)\n",
        "wat, VAT, _ = eigen(TA, num=3, niter=20000, eps=1e-24)\n",
        "\n",
        "\n",
        "# Verificar relacion entre autovalores y autovectores\n",
        "assert(...)\n",
        "assert(...)"
      ]
    },
    {
      "cell_type": "markdown",
      "metadata": {
        "id": "ljz4Pt_PyC3L"
      },
      "source": [
        "Analizar lo que ocurre en este caso"
      ]
    },
    {
      "cell_type": "code",
      "execution_count": null,
      "metadata": {
        "id": "6R9lxaPfxwy0"
      },
      "outputs": [],
      "source": [
        "A = np.array([\n",
        "  [7, 2, 3],\n",
        "  [0, 2, 0],\n",
        "  [-6, -2, -2]\n",
        "])\n",
        "\n",
        "w, V, _  = eigen(A, num=3, niter=20_000, eps=1e-14)\n",
        "print(\"w\")\n",
        "print(w)\n",
        "print(\"V\")\n",
        "print(V)\n",
        "\n",
        "print(\"-\"*20)\n",
        "for i in range(len(A)):\n",
        "    print(i)\n",
        "    print(np.allclose(A @ V[:, i], w[i] * V[:,i]))\n",
        "\n",
        "print(\"-\"*20)\n",
        "\n",
        "print(\"Usando numpy\")\n",
        "w2, V2 = LA.eigh(A)\n",
        "print(w2)\n",
        "\n",
        "\n",
        "for i in range(len(A)):\n",
        "    print(i)\n",
        "    print(np.allclose(A @ V2[:, i], w2[i] * V2[:,i]))\n",
        "\n"
      ]
    },
    {
      "cell_type": "markdown",
      "metadata": {
        "id": "4cF1rEuPzWEa"
      },
      "source": [
        "<div>\n",
        "<img src=\"https://cdn131.picsart.com/331981814059211.png?to=crop&type=webp&r=1008x1096&q=85\"  width=\"200\">\n",
        "</div>\n"
      ]
    },
    {
      "cell_type": "markdown",
      "metadata": {
        "id": "O3pZ-sDTfFG5"
      },
      "source": [
        "## Otros casos más divertidos"
      ]
    },
    {
      "cell_type": "markdown",
      "metadata": {
        "id": "MbdnF7xxBQBo"
      },
      "source": [
        "¿Qué pasa si tenemos r autovalores iguales?"
      ]
    },
    {
      "cell_type": "code",
      "execution_count": null,
      "metadata": {
        "id": "B-wzUKjyTz_a"
      },
      "outputs": [],
      "source": [
        "D = np.diag(np.arange(10))\n",
        "D[1,1] = 10\n",
        "D[2,2] = 10\n",
        "print(D)\n",
        "\n",
        "# Matriz de Householder\n",
        "B = ...\n",
        "\n",
        "# Matriz a diagonalizar\n",
        "M = ...\n",
        "\n",
        "# Chequear utilizando la noción de error del ejercicio 4 para todo autovector y autovalor\n",
        "\n"
      ]
    },
    {
      "cell_type": "markdown",
      "metadata": {
        "id": "z7wNgXeK4Hax"
      },
      "source": [
        "Opcionales:\n",
        "\n",
        "Asumiendo que el autovalor dominante tiene multiplicidad r, probar que el método converge a una combinación lineal del autoespacio dominante.\n",
        "\n",
        "---\n"
      ]
    }
  ],
  "metadata": {
    "colab": {
      "provenance": []
    },
    "kernelspec": {
      "display_name": ".venv",
      "language": "python",
      "name": "python3"
    },
    "language_info": {
      "codemirror_mode": {
        "name": "ipython",
        "version": 3
      },
      "file_extension": ".py",
      "mimetype": "text/x-python",
      "name": "python",
      "nbconvert_exporter": "python",
      "pygments_lexer": "ipython3",
      "version": "3.11.13"
    }
  },
  "nbformat": 4,
  "nbformat_minor": 0
}
